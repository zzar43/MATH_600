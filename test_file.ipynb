{
 "cells": [
  {
   "cell_type": "markdown",
   "metadata": {},
   "source": [
    "# Test file"
   ]
  },
  {
   "cell_type": "code",
   "execution_count": 1,
   "metadata": {
    "collapsed": false
   },
   "outputs": [
    {
     "data": {
      "text/plain": [
       "PyPlot"
      ]
     },
     "execution_count": 1,
     "metadata": {},
     "output_type": "execute_result"
    }
   ],
   "source": [
    "using PyPlot\n",
    "plt = PyPlot"
   ]
  },
  {
   "cell_type": "markdown",
   "metadata": {},
   "source": [
    "### WVD"
   ]
  },
  {
   "cell_type": "code",
   "execution_count": 5,
   "metadata": {
    "collapsed": false
   },
   "outputs": [
    {
     "name": "stderr",
     "output_type": "stream",
     "text": [
      "WARNING: Method definition WVD_da3(Any) in module Main at In[3]:2 overwritten at In[5]:2.\n",
      "WARNING: Method definition interp_da(Any) in module Main at In[3]:20 overwritten at In[5]:20.\n",
      "WARNING: Method definition Hilbert_da(Any) in module Main at In[3]:35 overwritten at In[5]:35.\n"
     ]
    },
    {
     "data": {
      "text/plain": [
       "Hilbert_da (generic function with 1 method)"
      ]
     },
     "execution_count": 5,
     "metadata": {},
     "output_type": "execute_result"
    }
   ],
   "source": [
    "function WVD_da3(x)\n",
    "  N = length(x)::Int;\n",
    "  y = interp_da(x);\n",
    "  y = Hilbert_da(y);\n",
    "  yy = [y;y;y];\n",
    "  yy[1:2*N] = 0;\n",
    "  yy[4*N+1:end] = 0;\n",
    "  W = zeros(Complex{Float64}, 2*N,N);\n",
    "  for n = 1:N\n",
    "    for p = 0:(2*N-1)\n",
    "      W[p+1,n] = yy[2*n+p-N+2*N] * conj(yy[2*n-p+N+2*N]);\n",
    "    end\n",
    "  end\n",
    "  W = W[N+1:end,:];\n",
    "  WW = real(fft(W,1));\n",
    "  return WW\n",
    "end\n",
    "\n",
    "function interp_da(x)\n",
    "  N = length(x)::Int;\n",
    "  N_over_2 = convert(Int, N/2);\n",
    "\n",
    "  x_fft = fft(x);\n",
    "  y_fft = zeros(Complex{Float64}, 2*N);\n",
    "  y_fft[1:N_over_2-1] = 2*x_fft[1:N_over_2-1];\n",
    "  y_fft[3*N_over_2+1:2*N] = 2*x_fft[N_over_2+1:N];\n",
    "  y_fft[N_over_2] = x_fft[N_over_2];\n",
    "  y_fft[3*N_over_2] = x_fft[N_over_2];\n",
    "\n",
    "  y = ifft(y_fft);\n",
    "  return y\n",
    "end\n",
    "\n",
    "function Hilbert_da(x)\n",
    "  N = length(x);\n",
    "  x_fft = fft(x);\n",
    "  N_over_2 = convert(Int, N/2);\n",
    "  x_fft[N_over_2:end] = 0;\n",
    "  x_fft[1:N_over_2] = 2*x_fft[1:N_over_2];\n",
    "  x1 = ifft(x_fft);\n",
    "  return x1\n",
    "end"
   ]
  },
  {
   "cell_type": "code",
   "execution_count": null,
   "metadata": {
    "collapsed": true
   },
   "outputs": [],
   "source": []
  },
  {
   "cell_type": "code",
   "execution_count": 2,
   "metadata": {
    "collapsed": false
   },
   "outputs": [
    {
     "data": {
      "text/markdown": [
       "The analogue of IPython's `%pylab` in Julia is to use the [PyPlot package](https://github.com/stevengj/PyPlot.jl), which gives a Julia interface to Matplotlib including inline plots in IJulia notebooks.   (The equivalent of `numpy` is already loaded by default in Julia.)\n",
       "\n",
       "Given PyPlot, the analogue of `%pylab inline` is `using PyPlot`, since PyPlot defaults to inline plots in IJulia.\n",
       "\n",
       "To enable separate GUI windows in PyPlot, analogous to `%pylab`, do `using PyPlot; pygui(true)`.   To specify a particular gui backend, analogous to `%pylab gui`, you can either do `using PyPlot; pygui(:gui); using PyPlot; pygui(true)` (where `gui` is `wx`, `qt`, `tk`, or `gtk`), or you can do `ENV[\"MPLBACKEND\"]=backend; using PyPlot; pygui(true)` (where `backend` is the name of a Matplotlib backend, like `tkagg`).\n",
       "\n",
       "For more options, see the PyPlot documentation.\n"
      ],
      "text/plain": [
       "The analogue of IPython's `%pylab` in Julia is to use the [PyPlot package](https://github.com/stevengj/PyPlot.jl), which gives a Julia interface to Matplotlib including inline plots in IJulia notebooks.   (The equivalent of `numpy` is already loaded by default in Julia.)\n",
       "\n",
       "Given PyPlot, the analogue of `%pylab inline` is `using PyPlot`, since PyPlot defaults to inline plots in IJulia.\n",
       "\n",
       "To enable separate GUI windows in PyPlot, analogous to `%pylab`, do `using PyPlot; pygui(true)`.   To specify a particular gui backend, analogous to `%pylab gui`, you can either do `using PyPlot; pygui(:gui); using PyPlot; pygui(true)` (where `gui` is `wx`, `qt`, `tk`, or `gtk`), or you can do `ENV[\"MPLBACKEND\"]=backend; using PyPlot; pygui(true)` (where `backend` is the name of a Matplotlib backend, like `tkagg`).\n",
       "\n",
       "For more options, see the PyPlot documentation.\n"
      ]
     },
     "metadata": {},
     "output_type": "display_data"
    }
   ],
   "source": [
    "%pylab inline\n",
    "pylab.rcParams['figure.figsize'] = (10, 6)"
   ]
  },
  {
   "cell_type": "code",
   "execution_count": 3,
   "metadata": {
    "collapsed": false
   },
   "outputs": [
    {
     "ename": "LoadError",
     "evalue": "syntax: invalid character literal",
     "output_type": "error",
     "traceback": [
      "syntax: invalid character literal",
      ""
     ]
    }
   ],
   "source": [
    "plt.Gcf['figure.figsize'] = (10, 6)"
   ]
  },
  {
   "cell_type": "code",
   "execution_count": null,
   "metadata": {
    "collapsed": true
   },
   "outputs": [],
   "source": []
  }
 ],
 "metadata": {
  "anaconda-cloud": {},
  "kernelspec": {
   "display_name": "Julia 0.5.0",
   "language": "julia",
   "name": "julia-0.5"
  },
  "language_info": {
   "file_extension": ".jl",
   "mimetype": "application/julia",
   "name": "julia",
   "version": "0.5.0"
  }
 },
 "nbformat": 4,
 "nbformat_minor": 2
}
